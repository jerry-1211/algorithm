{
 "cells": [
  {
   "cell_type": "markdown",
   "id": "4b0194b3",
   "metadata": {},
   "source": [
    "https://coding-grandpa.tistory.com/85"
   ]
  },
  {
   "cell_type": "markdown",
   "id": "aed27895",
   "metadata": {},
   "source": [
    "## 내 풀이"
   ]
  },
  {
   "cell_type": "code",
   "execution_count": 158,
   "id": "ef485fc1",
   "metadata": {},
   "outputs": [
    {
     "name": "stdout",
     "output_type": "stream",
     "text": [
      "vinko\n"
     ]
    }
   ],
   "source": [
    "def solution(participant, completion):\n",
    "    dropout = participant.copy()\n",
    "\n",
    "    for i in range(len(completion)):\n",
    "        for j in range(len(participant)):        \n",
    "            if(participant[j] == completion[i]):\n",
    "                dropout.remove(completion[i])\n",
    "                break\n",
    "    answer = dropout[0]\n",
    "    return answer\n",
    "\n",
    "print(solution([\"marina\", \"josipa\", \"nikola\", \"vinko\", \"filipa\"], [\"josipa\", \"filipa\", \"marina\", \"nikola\"]))\n"
   ]
  },
  {
   "cell_type": "markdown",
   "id": "c6235780",
   "metadata": {},
   "source": [
    "## Sort/Loop 방식"
   ]
  },
  {
   "cell_type": "code",
   "execution_count": 157,
   "id": "747fcef5",
   "metadata": {},
   "outputs": [
    {
     "name": "stdout",
     "output_type": "stream",
     "text": [
      "vinko\n"
     ]
    }
   ],
   "source": [
    "def solution(participant, completion):\n",
    "    answer = ''\n",
    "\n",
    "    # 1. 두 list를 sorting한다\n",
    "    participant.sort()\n",
    "    completion.sort()\n",
    "\n",
    "    # 2. completeion list의 len만큼 participant를 찾아서 없는 사람을 찾는다\n",
    "    for i in range(len(completion)):\n",
    "        if(participant[i] != completion[i]):\n",
    "            return participant[i]\n",
    "\n",
    "    # 3. 전부 다 돌아도 없을 경우에는 마지막 주자가 완주하지 못한 선수이다.\n",
    "    return participant[len(participant)-1]\n",
    "\n",
    "print(solution([\"marina\", \"josipa\", \"nikola\", \"vinko\", \"filipa\"], [\"josipa\", \"filipa\", \"marina\", \"nikola\"]))\n"
   ]
  },
  {
   "cell_type": "markdown",
   "id": "f47c5eb3",
   "metadata": {},
   "source": [
    "## Hash 방식"
   ]
  },
  {
   "cell_type": "code",
   "execution_count": 179,
   "id": "61fe4e18",
   "metadata": {},
   "outputs": [
    {
     "name": "stdout",
     "output_type": "stream",
     "text": [
      "mislav\n"
     ]
    }
   ],
   "source": [
    "def solution(participant, completion):\n",
    "    hashDict = {}\n",
    "    sumHash = 0\n",
    "    \n",
    "    for part in participant:\n",
    "        hashDict[hash(part)] = part\n",
    "        sumHash += hash(part)\n",
    "    \n",
    "    for com in completion:\n",
    "        sumHash -= hash(com)\n",
    "        \n",
    "    return hashDict[sumHash]\n",
    "    \n",
    "print(solution([\"mislav\", \"stanko\", \"mislav\", \"ana\"], [\"stanko\", \"ana\", \"mislav\"]))\n"
   ]
  },
  {
   "cell_type": "markdown",
   "id": "50fe3832",
   "metadata": {},
   "source": [
    "## Counter 방식"
   ]
  },
  {
   "cell_type": "code",
   "execution_count": 202,
   "id": "cd9abfc7",
   "metadata": {},
   "outputs": [
    {
     "name": "stdout",
     "output_type": "stream",
     "text": [
      "mislav\n"
     ]
    }
   ],
   "source": [
    "import collections\n",
    "def solution(participant, completion):\n",
    "    answer = collections.Counter(participant) - collections.Counter(completion)\n",
    "    \n",
    "    return list(answer.keys())[0]\n",
    "print(solution([\"mislav\", \"stanko\", \"mislav\", \"ana\"], [\"stanko\", \"ana\", \"mislav\"]))\n"
   ]
  },
  {
   "cell_type": "code",
   "execution_count": null,
   "id": "57647380",
   "metadata": {},
   "outputs": [],
   "source": []
  }
 ],
 "metadata": {
  "kernelspec": {
   "display_name": "Python 3 (ipykernel)",
   "language": "python",
   "name": "python3"
  },
  "language_info": {
   "codemirror_mode": {
    "name": "ipython",
    "version": 3
   },
   "file_extension": ".py",
   "mimetype": "text/x-python",
   "name": "python",
   "nbconvert_exporter": "python",
   "pygments_lexer": "ipython3",
   "version": "3.10.0rc2"
  }
 },
 "nbformat": 4,
 "nbformat_minor": 5
}
