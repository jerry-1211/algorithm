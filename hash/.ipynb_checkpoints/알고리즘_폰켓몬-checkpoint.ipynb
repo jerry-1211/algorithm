{
 "cells": [
  {
   "cell_type": "markdown",
   "id": "f44c93e8",
   "metadata": {},
   "source": [
    "## 내 풀이"
   ]
  },
  {
   "cell_type": "code",
   "execution_count": 94,
   "id": "d0d5e8d2",
   "metadata": {},
   "outputs": [
    {
     "name": "stdout",
     "output_type": "stream",
     "text": [
      "{3: [3, 3, 3, 3, 3, 3], 1: [1, 1, 1, 1, 1, 1, 1, 1], 2: [2], 5: [5], 6: [6, 6, 6, 6, 6]}\n",
      "5\n"
     ]
    }
   ],
   "source": [
    "def solution(nums):\n",
    "    answer = 0\n",
    "    phone_dict = {}\n",
    "    num_cnt = len(nums)//2\n",
    "    \n",
    "    for num in nums :\n",
    "        phone_dict[hash(num)] = []\n",
    "    \n",
    "    for num in nums : \n",
    "        phone_dict[hash(num)].append(num)\n",
    "        \n",
    "    num_dict = len(phone_dict)\n",
    "    print(phone_dict)\n",
    "    \n",
    "    if(num_cnt < num_dict) : \n",
    "        answer = num_cnt\n",
    "    else : \n",
    "        answer = num_dict\n",
    "        \n",
    "    return answer\n",
    "\n",
    "print(solution([3,1,2,3,3,3,3,3,5,6,6,6,6,6,1,1,1,1,1,1,1]))"
   ]
  },
  {
   "cell_type": "markdown",
   "id": "ef37a90d",
   "metadata": {},
   "source": [
    "## set 함수 풀이"
   ]
  },
  {
   "cell_type": "code",
   "execution_count": 95,
   "id": "3d77487c",
   "metadata": {},
   "outputs": [
    {
     "name": "stdout",
     "output_type": "stream",
     "text": [
      "5\n"
     ]
    }
   ],
   "source": [
    "def solution(ls):\n",
    "    return min(len(ls)/2, len(set(ls)))\n",
    "\n",
    "print(solution([3,1,2,3,3,3,3,3,5,6,6,6,6,6,1,1,1,1,1,1,1]))"
   ]
  }
 ],
 "metadata": {
  "kernelspec": {
   "display_name": "Python 3 (ipykernel)",
   "language": "python",
   "name": "python3"
  },
  "language_info": {
   "codemirror_mode": {
    "name": "ipython",
    "version": 3
   },
   "file_extension": ".py",
   "mimetype": "text/x-python",
   "name": "python",
   "nbconvert_exporter": "python",
   "pygments_lexer": "ipython3",
   "version": "3.10.0rc2"
  }
 },
 "nbformat": 4,
 "nbformat_minor": 5
}
