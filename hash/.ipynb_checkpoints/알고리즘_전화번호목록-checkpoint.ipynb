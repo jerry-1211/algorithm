{
 "cells": [
  {
   "cell_type": "markdown",
   "id": "4a329c61",
   "metadata": {},
   "source": [
    "https://coding-grandpa.tistory.com/86"
   ]
  },
  {
   "cell_type": "markdown",
   "id": "1673467b",
   "metadata": {},
   "source": [
    "## 내 풀이 1"
   ]
  },
  {
   "cell_type": "code",
   "execution_count": 101,
   "id": "3b233ec9",
   "metadata": {},
   "outputs": [
    {
     "name": "stdout",
     "output_type": "stream",
     "text": [
      "True\n"
     ]
    }
   ],
   "source": [
    "def solution(phone_book):\n",
    "    answer = True\n",
    "    for i in range(len(phone_book)-1):    \n",
    "        for j in range(i+1,len(phone_book)):\n",
    "            if phone_book[i] in phone_book[j]:\n",
    "                answer = False\n",
    "                break\n",
    "        \n",
    "    return answer\n",
    "\n",
    "print(solution([\"123\",\"456\",\"789\"]))"
   ]
  },
  {
   "cell_type": "markdown",
   "id": "17a3ff5c",
   "metadata": {},
   "source": [
    "## 내 풀이 2"
   ]
  },
  {
   "cell_type": "code",
   "execution_count": 131,
   "id": "33177639",
   "metadata": {},
   "outputs": [
    {
     "name": "stdout",
     "output_type": "stream",
     "text": [
      "False\n"
     ]
    }
   ],
   "source": [
    "def solution(phone_book):\n",
    "    answer = True\n",
    "    for i in range(len(phone_book)-1):    \n",
    "        for j in range(i+1,len(phone_book)):           \n",
    "            result = phone_book[j].find(phone_book[i],0,len(phone_book[i]))\n",
    "            if result != -1 :\n",
    "                answer = False\n",
    "                break\n",
    "        \n",
    "    return answer\n",
    "\n",
    "print(solution([\"12\",\"123\",\"1235\",\"567\",\"88\"]))"
   ]
  },
  {
   "cell_type": "markdown",
   "id": "953ba156",
   "metadata": {},
   "source": [
    "## Loop를 사용한 방법"
   ]
  },
  {
   "cell_type": "code",
   "execution_count": 132,
   "id": "62c0b28c",
   "metadata": {},
   "outputs": [
    {
     "name": "stdout",
     "output_type": "stream",
     "text": [
      "False\n"
     ]
    }
   ],
   "source": [
    "def solution(phoneBook):    \n",
    "    # 1. 비교할 A선택\n",
    "    for i in range(len(phoneBook)):\n",
    "        # 2. 비교할 B선택\n",
    "        for j in range(i+1, len(phoneBook)):\n",
    "            # 3. 서로가 서로의 접두어인지 확인한다.\n",
    "            if phoneBook[i].startswith(phoneBook[j]):\n",
    "                return False\n",
    "            if phoneBook[j].startswith(phoneBook[i]):\n",
    "                return False\n",
    "    return True\n",
    "\n",
    "print(solution([\"6\", \"12\", \"6789\"]))"
   ]
  },
  {
   "cell_type": "markdown",
   "id": "8c203922",
   "metadata": {},
   "source": [
    "## Sort / Loop를 사용한 방법"
   ]
  },
  {
   "cell_type": "code",
   "execution_count": 135,
   "id": "caa09e72",
   "metadata": {},
   "outputs": [
    {
     "name": "stdout",
     "output_type": "stream",
     "text": [
      "['12', '6', '6789']\n",
      "['6', '6789']\n",
      "[('12', '6'), ('6', '6789')]\n",
      "False\n"
     ]
    }
   ],
   "source": [
    "def solution(phoneBook):\n",
    "    # 1. 전화번호 sorting\n",
    "    phoneBook.sort()\n",
    "\n",
    "    # 2. sorting 한 전화번호부를 2개씩 확인해서 접두어인지 확인한다\n",
    "    for i in range(len(phoneBook) - 1):\n",
    "        if phoneBook[i+1].startswith(phoneBook[i]):\n",
    "            return False\n",
    "    return True\n",
    "\n",
    "    print(phoneBook)    \n",
    "    print(phoneBook[1:])\n",
    "    print(list(zip(phoneBook, phoneBook[1:])))\n",
    "    \n",
    "    for p1, p2 in zip(phoneBook, phoneBook[1:]):\n",
    "        if p2.startswith(p1):\n",
    "            return False\n",
    "    return True\n",
    "\n",
    "print(solution([\"6\", \"12\", \"6789\"]))\n"
   ]
  },
  {
   "cell_type": "markdown",
   "id": "43af11fb",
   "metadata": {},
   "source": [
    "## Hash를 사용한 방법"
   ]
  },
  {
   "cell_type": "code",
   "execution_count": 136,
   "id": "532a0cc9",
   "metadata": {},
   "outputs": [
    {
     "name": "stdout",
     "output_type": "stream",
     "text": [
      "False\n"
     ]
    }
   ],
   "source": [
    "def solution(phone_book):\n",
    "    # 1. Hash map을 만든다\n",
    "    hash_map = {}\n",
    "    for phone_number in phone_book:\n",
    "        hash_map[phone_number] = 1\n",
    "    \n",
    "    # 2. 접두어가 Hash map에 존재하는지 찾는다\n",
    "    for phone_number in phone_book:\n",
    "        jubdoo = \"\"\n",
    "        for number in phone_number:\n",
    "            jubdoo += number\n",
    "            # 3. 접두어를 찾아야 한다 (기존 번호와 같은 경우 제외)\n",
    "            if jubdoo in hash_map and jubdoo != phone_number:\n",
    "                return False\n",
    "    return True\n",
    "\n",
    "print(solution([\"6\", \"12\", \"6789\"]))"
   ]
  },
  {
   "cell_type": "code",
   "execution_count": null,
   "id": "5ab94169",
   "metadata": {},
   "outputs": [],
   "source": []
  },
  {
   "cell_type": "code",
   "execution_count": null,
   "id": "3cb38aaa",
   "metadata": {},
   "outputs": [],
   "source": []
  },
  {
   "cell_type": "code",
   "execution_count": null,
   "id": "bd1d5e1c",
   "metadata": {},
   "outputs": [],
   "source": []
  },
  {
   "cell_type": "code",
   "execution_count": null,
   "id": "f7623653",
   "metadata": {},
   "outputs": [],
   "source": []
  },
  {
   "cell_type": "code",
   "execution_count": null,
   "id": "543dafa6",
   "metadata": {},
   "outputs": [],
   "source": []
  },
  {
   "cell_type": "code",
   "execution_count": null,
   "id": "ceaea1fb",
   "metadata": {},
   "outputs": [],
   "source": []
  }
 ],
 "metadata": {
  "kernelspec": {
   "display_name": "Python 3 (ipykernel)",
   "language": "python",
   "name": "python3"
  },
  "language_info": {
   "codemirror_mode": {
    "name": "ipython",
    "version": 3
   },
   "file_extension": ".py",
   "mimetype": "text/x-python",
   "name": "python",
   "nbconvert_exporter": "python",
   "pygments_lexer": "ipython3",
   "version": "3.10.0rc2"
  }
 },
 "nbformat": 4,
 "nbformat_minor": 5
}
